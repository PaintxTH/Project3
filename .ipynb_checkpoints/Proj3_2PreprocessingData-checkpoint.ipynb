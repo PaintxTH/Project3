{
 "cells": [
  {
   "cell_type": "markdown",
   "id": "a55348ba-678e-4b4b-a014-07a6c09a03d0",
   "metadata": {},
   "source": [
    "# Problem Statement"
   ]
  },
  {
   "cell_type": "code",
   "execution_count": null,
   "id": "cdea7c69-6a3b-4052-9264-ea0474dadbb1",
   "metadata": {},
   "outputs": [],
   "source": []
  },
  {
   "cell_type": "markdown",
   "id": "123e1fb2-15fc-4b25-b37d-daf1f4d167c5",
   "metadata": {},
   "source": [
    "# Import Library"
   ]
  },
  {
   "cell_type": "code",
   "execution_count": 1,
   "id": "751be9e3-2616-4b20-81c1-679b5977e8ef",
   "metadata": {
    "tags": []
   },
   "outputs": [],
   "source": [
    "from selenium import webdriver\n",
    "from bs4 import BeautifulSoup\n",
    "import pandas as pd\n",
    "from tqdm import tqdm\n",
    "from time import sleep\n",
    "import json, os\n",
    "import numpy as np"
   ]
  },
  {
   "cell_type": "markdown",
   "id": "8ae92f1c-b874-4e64-82f7-e35c7a63bc66",
   "metadata": {
    "tags": []
   },
   "source": [
    "# Read files"
   ]
  },
  {
   "cell_type": "code",
   "execution_count": 2,
   "id": "78532c8d-1b73-4df6-ae80-8d79860b5908",
   "metadata": {
    "tags": []
   },
   "outputs": [],
   "source": [
    "Mac_df = pd.read_json('MacOS.json') #Read Mac Dataframe\n",
    "Windows_df = pd.read_json('Windows.json') #Read Windows Dataframe"
   ]
  },
  {
   "cell_type": "markdown",
   "id": "3803b548-7bda-4755-a858-c3c884589208",
   "metadata": {},
   "source": [
    "# Clean subreddit 'Mac' Data"
   ]
  },
  {
   "cell_type": "code",
   "execution_count": 3,
   "id": "054d8880-c1d5-4a22-9cea-e962e98375bd",
   "metadata": {
    "tags": []
   },
   "outputs": [
    {
     "data": {
      "text/html": [
       "<div>\n",
       "<style scoped>\n",
       "    .dataframe tbody tr th:only-of-type {\n",
       "        vertical-align: middle;\n",
       "    }\n",
       "\n",
       "    .dataframe tbody tr th {\n",
       "        vertical-align: top;\n",
       "    }\n",
       "\n",
       "    .dataframe thead th {\n",
       "        text-align: right;\n",
       "    }\n",
       "</style>\n",
       "<table border=\"1\" class=\"dataframe\">\n",
       "  <thead>\n",
       "    <tr style=\"text-align: right;\">\n",
       "      <th></th>\n",
       "      <th>vote</th>\n",
       "      <th>title</th>\n",
       "      <th>text</th>\n",
       "      <th>date</th>\n",
       "    </tr>\n",
       "  </thead>\n",
       "  <tbody>\n",
       "    <tr>\n",
       "      <th>0</th>\n",
       "      <td>3</td>\n",
       "      <td>My Mac crashes when connecting USB Razer mouse</td>\n",
       "      <td>Just a bug report, and a thread to help others...</td>\n",
       "      <td>2016-07-08</td>\n",
       "    </tr>\n",
       "    <tr>\n",
       "      <th>1</th>\n",
       "      <td>1</td>\n",
       "      <td>MacOS Sierra beta publique : télécharger et in...</td>\n",
       "      <td>None</td>\n",
       "      <td>2016-07-08</td>\n",
       "    </tr>\n",
       "    <tr>\n",
       "      <th>2</th>\n",
       "      <td>1</td>\n",
       "      <td>[Problem] MacOS Sierra \"cannot be installed on...</td>\n",
       "      <td>[deleted]</td>\n",
       "      <td>2016-07-08</td>\n",
       "    </tr>\n",
       "  </tbody>\n",
       "</table>\n",
       "</div>"
      ],
      "text/plain": [
       "   vote                                              title  \\\n",
       "0     3     My Mac crashes when connecting USB Razer mouse   \n",
       "1     1  MacOS Sierra beta publique : télécharger et in...   \n",
       "2     1  [Problem] MacOS Sierra \"cannot be installed on...   \n",
       "\n",
       "                                                text       date  \n",
       "0  Just a bug report, and a thread to help others... 2016-07-08  \n",
       "1                                               None 2016-07-08  \n",
       "2                                          [deleted] 2016-07-08  "
      ]
     },
     "execution_count": 3,
     "metadata": {},
     "output_type": "execute_result"
    }
   ],
   "source": [
    "Mac_df.head(3) # Check scrapped files to see start date"
   ]
  },
  {
   "cell_type": "code",
   "execution_count": 4,
   "id": "9f3abaee-1221-46d7-87ce-74d77116332f",
   "metadata": {
    "tags": []
   },
   "outputs": [
    {
     "data": {
      "text/html": [
       "<div>\n",
       "<style scoped>\n",
       "    .dataframe tbody tr th:only-of-type {\n",
       "        vertical-align: middle;\n",
       "    }\n",
       "\n",
       "    .dataframe tbody tr th {\n",
       "        vertical-align: top;\n",
       "    }\n",
       "\n",
       "    .dataframe thead th {\n",
       "        text-align: right;\n",
       "    }\n",
       "</style>\n",
       "<table border=\"1\" class=\"dataframe\">\n",
       "  <thead>\n",
       "    <tr style=\"text-align: right;\">\n",
       "      <th></th>\n",
       "      <th>vote</th>\n",
       "      <th>title</th>\n",
       "      <th>text</th>\n",
       "      <th>date</th>\n",
       "    </tr>\n",
       "  </thead>\n",
       "  <tbody>\n",
       "    <tr>\n",
       "      <th>19447</th>\n",
       "      <td>5</td>\n",
       "      <td>Why does text on certain pages of my book disa...</td>\n",
       "      <td>None</td>\n",
       "      <td>2022-01-05</td>\n",
       "    </tr>\n",
       "    <tr>\n",
       "      <th>19448</th>\n",
       "      <td>0</td>\n",
       "      <td>[deleted by user]</td>\n",
       "      <td>[removed]</td>\n",
       "      <td>2022-01-05</td>\n",
       "    </tr>\n",
       "    <tr>\n",
       "      <th>19449</th>\n",
       "      <td>8</td>\n",
       "      <td>Is it safe to delete hidden library folder?</td>\n",
       "      <td>I am trying to clear some storage in my macboo...</td>\n",
       "      <td>2022-01-05</td>\n",
       "    </tr>\n",
       "  </tbody>\n",
       "</table>\n",
       "</div>"
      ],
      "text/plain": [
       "       vote                                              title  \\\n",
       "19447     5  Why does text on certain pages of my book disa...   \n",
       "19448     0                                  [deleted by user]   \n",
       "19449     8        Is it safe to delete hidden library folder?   \n",
       "\n",
       "                                                    text       date  \n",
       "19447                                               None 2022-01-05  \n",
       "19448                                          [removed] 2022-01-05  \n",
       "19449  I am trying to clear some storage in my macboo... 2022-01-05  "
      ]
     },
     "execution_count": 4,
     "metadata": {},
     "output_type": "execute_result"
    }
   ],
   "source": [
    "Mac_df.tail(3) # Check scrapped files to see end date"
   ]
  },
  {
   "cell_type": "code",
   "execution_count": 5,
   "id": "a36d1cfc-1af0-4483-b2b3-fb7a695e00dd",
   "metadata": {
    "tags": []
   },
   "outputs": [
    {
     "data": {
      "text/plain": [
       "(19450, 4)"
      ]
     },
     "execution_count": 5,
     "metadata": {},
     "output_type": "execute_result"
    }
   ],
   "source": [
    "Mac_df.shape #Total rows and column before cleaning process"
   ]
  },
  {
   "cell_type": "code",
   "execution_count": 6,
   "id": "6d7baf20-dd4c-4ade-8cbb-a8db5e043853",
   "metadata": {
    "tags": []
   },
   "outputs": [
    {
     "data": {
      "text/plain": [
       "vote        0\n",
       "title       0\n",
       "text     3271\n",
       "date        0\n",
       "dtype: int64"
      ]
     },
     "execution_count": 6,
     "metadata": {},
     "output_type": "execute_result"
    }
   ],
   "source": [
    "Mac_df.isna().sum() #check null vlaues"
   ]
  },
  {
   "cell_type": "code",
   "execution_count": 7,
   "id": "b6ff2669-90f6-47ed-9130-a5d7cb05f2d6",
   "metadata": {
    "tags": []
   },
   "outputs": [],
   "source": [
    "Mac_df.dropna(inplace=True) #drop null values"
   ]
  },
  {
   "cell_type": "code",
   "execution_count": 8,
   "id": "dd9196e1-0ac0-4a27-9ea8-337ebc62bb82",
   "metadata": {
    "tags": []
   },
   "outputs": [
    {
     "data": {
      "text/plain": [
       "(16179, 4)"
      ]
     },
     "execution_count": 8,
     "metadata": {},
     "output_type": "execute_result"
    }
   ],
   "source": [
    "Mac_df.shape #check whether drop is successfully executed"
   ]
  },
  {
   "cell_type": "code",
   "execution_count": 9,
   "id": "d6f935f6-6c3e-4e04-b5d6-87582dfa7a2f",
   "metadata": {
    "tags": []
   },
   "outputs": [
    {
     "data": {
      "text/plain": [
       "text\n",
       "[deleted]                                                                                                                                                                                                                                                                                                                                                                                  0.222078\n",
       "[removed]                                                                                                                                                                                                                                                                                                                                                                                  0.106249\n",
       "View Poll                                                                                                                                                                                                                                                                                                                                                                                  0.001298\n",
       "[deleted]\\n\\n\\nView Poll                                                                                                                                                                                                                                                                                                                                                                   0.000618\n",
       "[removed]\\n\\n\\nView Poll                                                                                                                                                                                                                                                                                                                                                                   0.000371\n",
       "                                                                                                                                                                                                                                                                                                                                                                                             ...   \n",
       "Just to be clear I don't mean the Apple Music radio feature (that are essentially not visible playlists), but the online radio stations iTunes has included for a long time. I use to listen to radio from there because it's much easier that going to the websites.                                                                                                                      0.000062\n",
       "Hi,\\n\\n\\nI noticed the battery of my 2019 13 TB MBP sometimes jumps up a percentage.\\n\\n\\nI've downloaded coconut battery which says the battery is good (however it shows a slightly lower % than the native macOS), the macbook is new so maybe it just need to calibrate itself.\\n\\n\\nI've already tried resetting the SMC.\\n\\n\\nhas anyone had a similar issue?                        0.000062\n",
       "How is the battery life on macOS Mojave?\\n\\n\\n&#x200B;\\n\\n\\nI was using Mojave on my MacBook Air (13-inch, Early 2014) and faced the battery drain problem so I downgraded back to High Sierra. But now I'm thinking about upgrading to it again (because of the dark mode).\\n\\n\\n&#x200B;\\n\\n\\nSo how is it? Have the battery drain issues been fixed or should I stay on High Sierra?    0.000062\n",
       "I just updated to MacOS Catalina and lost all my Safari extensions.\\n\\n\\nIt'd be okay if I could replace them with new ones from the Appstore.\\n\\n\\nUnfortunately, the App Store isn't working.\\n\\n\\nWhen I try downloading something, i get the loading animation and then... nothing.\\n\\n\\nHow do I solve this?                                                                          0.000062\n",
       "I am trying to clear some storage in my macbook and noticed that this hidden library folder to taking up most space in the storage. Is it safe to delete this hidden library folder?\\n\\n\\nhttps://preview.redd.it/23eu7wd3nx981.png?width=1156&format=png&auto=webp&s=ebee0a5df9b60d87bbe94e46fb73a64a3f1e8f68                                                                             0.000062\n",
       "Name: proportion, Length: 10819, dtype: float64"
      ]
     },
     "execution_count": 9,
     "metadata": {},
     "output_type": "execute_result"
    }
   ],
   "source": [
    "Mac_df[\"text\"].value_counts(normalize=True)\n",
    "#Check dirt in data by see value frequency"
   ]
  },
  {
   "cell_type": "code",
   "execution_count": 10,
   "id": "0ac89f0b-fbe3-4e02-bc18-4c691ee4cd7f",
   "metadata": {
    "tags": []
   },
   "outputs": [
    {
     "data": {
      "text/html": [
       "<div>\n",
       "<style scoped>\n",
       "    .dataframe tbody tr th:only-of-type {\n",
       "        vertical-align: middle;\n",
       "    }\n",
       "\n",
       "    .dataframe tbody tr th {\n",
       "        vertical-align: top;\n",
       "    }\n",
       "\n",
       "    .dataframe thead th {\n",
       "        text-align: right;\n",
       "    }\n",
       "</style>\n",
       "<table border=\"1\" class=\"dataframe\">\n",
       "  <thead>\n",
       "    <tr style=\"text-align: right;\">\n",
       "      <th></th>\n",
       "      <th>vote</th>\n",
       "      <th>title</th>\n",
       "      <th>text</th>\n",
       "      <th>date</th>\n",
       "    </tr>\n",
       "  </thead>\n",
       "  <tbody>\n",
       "    <tr>\n",
       "      <th>2</th>\n",
       "      <td>1</td>\n",
       "      <td>[Problem] MacOS Sierra \"cannot be installed on...</td>\n",
       "      <td>[deleted]</td>\n",
       "      <td>2016-07-08</td>\n",
       "    </tr>\n",
       "    <tr>\n",
       "      <th>10</th>\n",
       "      <td>6</td>\n",
       "      <td>How is the battery life on public beta? Also, ...</td>\n",
       "      <td>[deleted]</td>\n",
       "      <td>2016-07-09</td>\n",
       "    </tr>\n",
       "    <tr>\n",
       "      <th>15</th>\n",
       "      <td>3</td>\n",
       "      <td>Wifi calling on macOS</td>\n",
       "      <td>[deleted]</td>\n",
       "      <td>2016-07-11</td>\n",
       "    </tr>\n",
       "    <tr>\n",
       "      <th>18</th>\n",
       "      <td>5</td>\n",
       "      <td>Seagate S Drive in Sierra beta</td>\n",
       "      <td>[deleted]</td>\n",
       "      <td>2016-07-12</td>\n",
       "    </tr>\n",
       "    <tr>\n",
       "      <th>20</th>\n",
       "      <td>1</td>\n",
       "      <td>Any way to downgrade from macOS Sierra Public ...</td>\n",
       "      <td>[deleted]</td>\n",
       "      <td>2016-07-13</td>\n",
       "    </tr>\n",
       "    <tr>\n",
       "      <th>...</th>\n",
       "      <td>...</td>\n",
       "      <td>...</td>\n",
       "      <td>...</td>\n",
       "      <td>...</td>\n",
       "    </tr>\n",
       "    <tr>\n",
       "      <th>19436</th>\n",
       "      <td>2</td>\n",
       "      <td>Which MacOS is better for older macs</td>\n",
       "      <td>[removed]</td>\n",
       "      <td>2022-01-05</td>\n",
       "    </tr>\n",
       "    <tr>\n",
       "      <th>19444</th>\n",
       "      <td>0</td>\n",
       "      <td>[deleted by user]</td>\n",
       "      <td>[removed]</td>\n",
       "      <td>2022-01-05</td>\n",
       "    </tr>\n",
       "    <tr>\n",
       "      <th>19445</th>\n",
       "      <td>1</td>\n",
       "      <td>[deleted by user]</td>\n",
       "      <td>[removed]</td>\n",
       "      <td>2022-01-05</td>\n",
       "    </tr>\n",
       "    <tr>\n",
       "      <th>19446</th>\n",
       "      <td>0</td>\n",
       "      <td>[deleted by user]</td>\n",
       "      <td>[removed]</td>\n",
       "      <td>2022-01-05</td>\n",
       "    </tr>\n",
       "    <tr>\n",
       "      <th>19448</th>\n",
       "      <td>0</td>\n",
       "      <td>[deleted by user]</td>\n",
       "      <td>[removed]</td>\n",
       "      <td>2022-01-05</td>\n",
       "    </tr>\n",
       "  </tbody>\n",
       "</table>\n",
       "<p>5312 rows × 4 columns</p>\n",
       "</div>"
      ],
      "text/plain": [
       "       vote                                              title       text  \\\n",
       "2         1  [Problem] MacOS Sierra \"cannot be installed on...  [deleted]   \n",
       "10        6  How is the battery life on public beta? Also, ...  [deleted]   \n",
       "15        3                              Wifi calling on macOS  [deleted]   \n",
       "18        5                     Seagate S Drive in Sierra beta  [deleted]   \n",
       "20        1  Any way to downgrade from macOS Sierra Public ...  [deleted]   \n",
       "...     ...                                                ...        ...   \n",
       "19436     2               Which MacOS is better for older macs  [removed]   \n",
       "19444     0                                  [deleted by user]  [removed]   \n",
       "19445     1                                  [deleted by user]  [removed]   \n",
       "19446     0                                  [deleted by user]  [removed]   \n",
       "19448     0                                  [deleted by user]  [removed]   \n",
       "\n",
       "            date  \n",
       "2     2016-07-08  \n",
       "10    2016-07-09  \n",
       "15    2016-07-11  \n",
       "18    2016-07-12  \n",
       "20    2016-07-13  \n",
       "...          ...  \n",
       "19436 2022-01-05  \n",
       "19444 2022-01-05  \n",
       "19445 2022-01-05  \n",
       "19446 2022-01-05  \n",
       "19448 2022-01-05  \n",
       "\n",
       "[5312 rows x 4 columns]"
      ]
     },
     "execution_count": 10,
     "metadata": {},
     "output_type": "execute_result"
    }
   ],
   "source": [
    "Mac_df[Mac_df['text'].isin(['[removed]', '[deleted]'])]\n",
    "#Check how [removed] and [deleted] lay in text columns"
   ]
  },
  {
   "cell_type": "code",
   "execution_count": 11,
   "id": "17eacab9-bbf9-4857-872d-75b62dbf1885",
   "metadata": {
    "tags": []
   },
   "outputs": [],
   "source": [
    "Mac_df['text'] = Mac_df['text'].replace('[removed]', np.NaN)\n",
    "Mac_df['text'] = Mac_df['text'].replace('[deleted]', np.NaN)\n",
    "##So remove rows that contains [deleted] and [removed] text out"
   ]
  },
  {
   "cell_type": "code",
   "execution_count": 12,
   "id": "247e9914-b608-49e4-a36e-ed50f7ef74d5",
   "metadata": {
    "tags": []
   },
   "outputs": [],
   "source": [
    "Mac_df.dropna(inplace=True)\n",
    "##So remove rows that contains [deleted] and [removed] text out (Cont.)"
   ]
  },
  {
   "cell_type": "code",
   "execution_count": 13,
   "id": "4e018ea9-766f-4248-ad2c-bc8e092c5cd7",
   "metadata": {
    "tags": []
   },
   "outputs": [
    {
     "data": {
      "text/plain": [
       "(10867, 4)"
      ]
     },
     "execution_count": 13,
     "metadata": {},
     "output_type": "execute_result"
    }
   ],
   "source": [
    "Mac_df.shape\n",
    "#Check Remaining rows that ready to concat"
   ]
  },
  {
   "cell_type": "markdown",
   "id": "645f3da5-843f-4903-a602-227ed5da3215",
   "metadata": {},
   "source": [
    "# Read & Clean subreddit 'Windows' Data"
   ]
  },
  {
   "cell_type": "code",
   "execution_count": 14,
   "id": "551787e2-b98b-4425-a8b8-e01ba7bf8a2a",
   "metadata": {
    "tags": []
   },
   "outputs": [
    {
     "data": {
      "text/html": [
       "<div>\n",
       "<style scoped>\n",
       "    .dataframe tbody tr th:only-of-type {\n",
       "        vertical-align: middle;\n",
       "    }\n",
       "\n",
       "    .dataframe tbody tr th {\n",
       "        vertical-align: top;\n",
       "    }\n",
       "\n",
       "    .dataframe thead th {\n",
       "        text-align: right;\n",
       "    }\n",
       "</style>\n",
       "<table border=\"1\" class=\"dataframe\">\n",
       "  <thead>\n",
       "    <tr style=\"text-align: right;\">\n",
       "      <th></th>\n",
       "      <th>vote</th>\n",
       "      <th>title</th>\n",
       "      <th>text</th>\n",
       "      <th>date</th>\n",
       "    </tr>\n",
       "  </thead>\n",
       "  <tbody>\n",
       "    <tr>\n",
       "      <th>0</th>\n",
       "      <td>1</td>\n",
       "      <td>Apple misses Windows 7 Bootcamp compatibility ...</td>\n",
       "      <td>None</td>\n",
       "      <td>2010-01-02</td>\n",
       "    </tr>\n",
       "    <tr>\n",
       "      <th>1</th>\n",
       "      <td>0</td>\n",
       "      <td>Does anyone know how to fix Vundo.JD? AVG 'fix...</td>\n",
       "      <td>None</td>\n",
       "      <td>2010-01-02</td>\n",
       "    </tr>\n",
       "    <tr>\n",
       "      <th>2</th>\n",
       "      <td>0</td>\n",
       "      <td>Anyone know if ophcrack works for windows 7? I...</td>\n",
       "      <td>None</td>\n",
       "      <td>2010-01-04</td>\n",
       "    </tr>\n",
       "  </tbody>\n",
       "</table>\n",
       "</div>"
      ],
      "text/plain": [
       "   vote                                              title  text       date\n",
       "0     1  Apple misses Windows 7 Bootcamp compatibility ...  None 2010-01-02\n",
       "1     0  Does anyone know how to fix Vundo.JD? AVG 'fix...  None 2010-01-02\n",
       "2     0  Anyone know if ophcrack works for windows 7? I...  None 2010-01-04"
      ]
     },
     "execution_count": 14,
     "metadata": {},
     "output_type": "execute_result"
    }
   ],
   "source": [
    "Windows_df.head(3)\n",
    "#Check scrapped Windows subreddit data for start date"
   ]
  },
  {
   "cell_type": "markdown",
   "id": "692438a6",
   "metadata": {},
   "source": []
  },
  {
   "cell_type": "code",
   "execution_count": 15,
   "id": "264741cb-229a-484e-8add-f45f8d62bb12",
   "metadata": {
    "tags": []
   },
   "outputs": [
    {
     "data": {
      "text/html": [
       "<div>\n",
       "<style scoped>\n",
       "    .dataframe tbody tr th:only-of-type {\n",
       "        vertical-align: middle;\n",
       "    }\n",
       "\n",
       "    .dataframe tbody tr th {\n",
       "        vertical-align: top;\n",
       "    }\n",
       "\n",
       "    .dataframe thead th {\n",
       "        text-align: right;\n",
       "    }\n",
       "</style>\n",
       "<table border=\"1\" class=\"dataframe\">\n",
       "  <thead>\n",
       "    <tr style=\"text-align: right;\">\n",
       "      <th></th>\n",
       "      <th>vote</th>\n",
       "      <th>title</th>\n",
       "      <th>text</th>\n",
       "      <th>date</th>\n",
       "    </tr>\n",
       "  </thead>\n",
       "  <tbody>\n",
       "    <tr>\n",
       "      <th>28222</th>\n",
       "      <td>0</td>\n",
       "      <td>Classic context menus pls</td>\n",
       "      <td>[deleted]</td>\n",
       "      <td>2019-02-13</td>\n",
       "    </tr>\n",
       "    <tr>\n",
       "      <th>28223</th>\n",
       "      <td>1</td>\n",
       "      <td>Why are there no Hindi or Thai or Vietnamese o...</td>\n",
       "      <td>If there are, where to download them?</td>\n",
       "      <td>2019-02-13</td>\n",
       "    </tr>\n",
       "    <tr>\n",
       "      <th>28224</th>\n",
       "      <td>1</td>\n",
       "      <td>Is there any time window for how long my PC wi...</td>\n",
       "      <td>None</td>\n",
       "      <td>2019-02-13</td>\n",
       "    </tr>\n",
       "  </tbody>\n",
       "</table>\n",
       "</div>"
      ],
      "text/plain": [
       "       vote                                              title  \\\n",
       "28222     0                          Classic context menus pls   \n",
       "28223     1  Why are there no Hindi or Thai or Vietnamese o...   \n",
       "28224     1  Is there any time window for how long my PC wi...   \n",
       "\n",
       "                                        text       date  \n",
       "28222                              [deleted] 2019-02-13  \n",
       "28223  If there are, where to download them? 2019-02-13  \n",
       "28224                                   None 2019-02-13  "
      ]
     },
     "execution_count": 15,
     "metadata": {},
     "output_type": "execute_result"
    }
   ],
   "source": [
    "Windows_df.tail(3)\n",
    "#Check scrapped Windows subreddit data for end date"
   ]
  },
  {
   "cell_type": "code",
   "execution_count": 16,
   "id": "3f4b6c35-ba84-4d27-844c-d30fa2c473a9",
   "metadata": {
    "tags": []
   },
   "outputs": [
    {
     "data": {
      "text/plain": [
       "(28225, 4)"
      ]
     },
     "execution_count": 16,
     "metadata": {},
     "output_type": "execute_result"
    }
   ],
   "source": [
    "Windows_df.shape\n",
    "#Check scrapped entities"
   ]
  },
  {
   "cell_type": "code",
   "execution_count": 17,
   "id": "b62f60ad-47de-4278-9f0a-617646a9b09b",
   "metadata": {
    "tags": []
   },
   "outputs": [
    {
     "data": {
      "text/plain": [
       "vote        0\n",
       "title       0\n",
       "text     8220\n",
       "date        0\n",
       "dtype: int64"
      ]
     },
     "execution_count": 17,
     "metadata": {},
     "output_type": "execute_result"
    }
   ],
   "source": [
    "Windows_df.isna().sum()\n",
    "#Check null values"
   ]
  },
  {
   "cell_type": "code",
   "execution_count": 18,
   "id": "a6d00c58-660c-4ee3-9868-a6976ff99519",
   "metadata": {
    "tags": []
   },
   "outputs": [],
   "source": [
    "Windows_df.dropna(inplace=True)\n",
    "#Drop null values"
   ]
  },
  {
   "cell_type": "code",
   "execution_count": 19,
   "id": "e57c8fe8-3ac7-48bf-8546-2ab24540d3eb",
   "metadata": {
    "tags": []
   },
   "outputs": [
    {
     "data": {
      "text/plain": [
       "(20005, 4)"
      ]
     },
     "execution_count": 19,
     "metadata": {},
     "output_type": "execute_result"
    }
   ],
   "source": [
    "Windows_df.shape\n",
    "#Check remaining rows"
   ]
  },
  {
   "cell_type": "code",
   "execution_count": 20,
   "id": "78ab42a9-759a-44f1-a45e-c74faf4c4af0",
   "metadata": {
    "tags": []
   },
   "outputs": [
    {
     "data": {
      "text/plain": [
       "text\n",
       "[deleted]                                                                                                                                                                                                                                                                                                                                                                                                      0.252787\n",
       "[removed]                                                                                                                                                                                                                                                                                                                                                                                                      0.228343\n",
       "Title.                                                                                                                                                                                                                                                                                                                                                                                                         0.000200\n",
       ".                                                                                                                                                                                                                                                                                                                                                                                                              0.000150\n",
       "Windows 8.1                                                                                                                                                                                                                                                                                                                                                                                                    0.000150\n",
       "                                                                                                                                                                                                                                                                                                                                                                                                                 ...   \n",
       "Earlier a subscription based Windows was proposed which caused some uproar. I ran some rough numbers though, and at 2-3 monthly you would reach retail price for Windows currently at about the same length of the version's lifespan. You're paying the same price in the long run, no? If it were cheap, would it be less of a big deal?                                                                     0.000050\n",
       "$150 or however much Windows goes for these days is awfully pricey, especially if you're buying it just to install on an old machine and not just of buying it with a new rig. What if Microsoft offered a type of small payment plan where you pay like a mortgage over a period of months/years? Perhaps a plan where you pay it off for the entire lifespan of the version before upgrading to the next?    0.000050\n",
       "I'm a compulsive fiddler when it comes to tweaks and trying different software and Windows versions -  I'm wondering if there is any backup software (or any thing else...) that will make it easier to switch between OS's. I have all my documents on a secondary drive so those don't matter. I'm just tired of reinstall ally core apps after a format.                                                    0.000050\n",
       "Hello i am new to this subreddit and was just wondering IF 8/8.1/10 have the hibernate funtion. I had 10 tech preview but didnt see hibernate only sleep/restart/shutdown/logoff/  ,so i downgraded to Windows 7 Ulti.                                                                                                                                                                                         0.000050\n",
       "If there are, where to download them?                                                                                                                                                                                                                                                                                                                                                                          0.000050\n",
       "Name: proportion, Length: 10371, dtype: float64"
      ]
     },
     "execution_count": 20,
     "metadata": {},
     "output_type": "execute_result"
    }
   ],
   "source": [
    "Windows_df[\"text\"].value_counts(normalize=True)\n",
    "#Check dirt in data by see value frequency"
   ]
  },
  {
   "cell_type": "code",
   "execution_count": 21,
   "id": "defc3f72-59d1-47c8-8a47-31530e8304a2",
   "metadata": {
    "tags": []
   },
   "outputs": [
    {
     "data": {
      "text/html": [
       "<div>\n",
       "<style scoped>\n",
       "    .dataframe tbody tr th:only-of-type {\n",
       "        vertical-align: middle;\n",
       "    }\n",
       "\n",
       "    .dataframe tbody tr th {\n",
       "        vertical-align: top;\n",
       "    }\n",
       "\n",
       "    .dataframe thead th {\n",
       "        text-align: right;\n",
       "    }\n",
       "</style>\n",
       "<table border=\"1\" class=\"dataframe\">\n",
       "  <thead>\n",
       "    <tr style=\"text-align: right;\">\n",
       "      <th></th>\n",
       "      <th>vote</th>\n",
       "      <th>title</th>\n",
       "      <th>text</th>\n",
       "      <th>date</th>\n",
       "    </tr>\n",
       "  </thead>\n",
       "  <tbody>\n",
       "    <tr>\n",
       "      <th>5</th>\n",
       "      <td>1</td>\n",
       "      <td>Is there really Virtual WIFI (connect to multi...</td>\n",
       "      <td>[removed]</td>\n",
       "      <td>2010-01-06</td>\n",
       "    </tr>\n",
       "    <tr>\n",
       "      <th>8</th>\n",
       "      <td>1</td>\n",
       "      <td>Windows 7 schneller machen</td>\n",
       "      <td>[deleted]</td>\n",
       "      <td>2010-01-06</td>\n",
       "    </tr>\n",
       "    <tr>\n",
       "      <th>12</th>\n",
       "      <td>1</td>\n",
       "      <td>How to Add Music to a PowerPoint Presentation ...</td>\n",
       "      <td>[removed]</td>\n",
       "      <td>2010-01-08</td>\n",
       "    </tr>\n",
       "    <tr>\n",
       "      <th>14</th>\n",
       "      <td>0</td>\n",
       "      <td>'GodMode' How to Enable it.</td>\n",
       "      <td>[deleted]</td>\n",
       "      <td>2010-01-09</td>\n",
       "    </tr>\n",
       "    <tr>\n",
       "      <th>23</th>\n",
       "      <td>1</td>\n",
       "      <td>Help with Windows networking</td>\n",
       "      <td>[removed]</td>\n",
       "      <td>2010-01-16</td>\n",
       "    </tr>\n",
       "    <tr>\n",
       "      <th>...</th>\n",
       "      <td>...</td>\n",
       "      <td>...</td>\n",
       "      <td>...</td>\n",
       "      <td>...</td>\n",
       "    </tr>\n",
       "    <tr>\n",
       "      <th>28206</th>\n",
       "      <td>0</td>\n",
       "      <td>Any Libre Office users here?</td>\n",
       "      <td>[deleted]</td>\n",
       "      <td>2019-02-13</td>\n",
       "    </tr>\n",
       "    <tr>\n",
       "      <th>28212</th>\n",
       "      <td>1</td>\n",
       "      <td>CDBurnerXP - Free Disc Burning Software</td>\n",
       "      <td>[removed]</td>\n",
       "      <td>2019-02-13</td>\n",
       "    </tr>\n",
       "    <tr>\n",
       "      <th>28213</th>\n",
       "      <td>1</td>\n",
       "      <td>\"Noto sans symbols font not available\"</td>\n",
       "      <td>[deleted]</td>\n",
       "      <td>2019-02-13</td>\n",
       "    </tr>\n",
       "    <tr>\n",
       "      <th>28216</th>\n",
       "      <td>2</td>\n",
       "      <td>Multiple Monitors - Maximize window on current...</td>\n",
       "      <td>[deleted]</td>\n",
       "      <td>2019-02-13</td>\n",
       "    </tr>\n",
       "    <tr>\n",
       "      <th>28222</th>\n",
       "      <td>0</td>\n",
       "      <td>Classic context menus pls</td>\n",
       "      <td>[deleted]</td>\n",
       "      <td>2019-02-13</td>\n",
       "    </tr>\n",
       "  </tbody>\n",
       "</table>\n",
       "<p>9625 rows × 4 columns</p>\n",
       "</div>"
      ],
      "text/plain": [
       "       vote                                              title       text  \\\n",
       "5         1  Is there really Virtual WIFI (connect to multi...  [removed]   \n",
       "8         1                         Windows 7 schneller machen  [deleted]   \n",
       "12        1  How to Add Music to a PowerPoint Presentation ...  [removed]   \n",
       "14        0                        'GodMode' How to Enable it.  [deleted]   \n",
       "23        1                       Help with Windows networking  [removed]   \n",
       "...     ...                                                ...        ...   \n",
       "28206     0                       Any Libre Office users here?  [deleted]   \n",
       "28212     1            CDBurnerXP - Free Disc Burning Software  [removed]   \n",
       "28213     1             \"Noto sans symbols font not available\"  [deleted]   \n",
       "28216     2  Multiple Monitors - Maximize window on current...  [deleted]   \n",
       "28222     0                          Classic context menus pls  [deleted]   \n",
       "\n",
       "            date  \n",
       "5     2010-01-06  \n",
       "8     2010-01-06  \n",
       "12    2010-01-08  \n",
       "14    2010-01-09  \n",
       "23    2010-01-16  \n",
       "...          ...  \n",
       "28206 2019-02-13  \n",
       "28212 2019-02-13  \n",
       "28213 2019-02-13  \n",
       "28216 2019-02-13  \n",
       "28222 2019-02-13  \n",
       "\n",
       "[9625 rows x 4 columns]"
      ]
     },
     "execution_count": 21,
     "metadata": {},
     "output_type": "execute_result"
    }
   ],
   "source": [
    "Windows_df[Windows_df['text'].isin(['[removed]', '[deleted]'])]\n",
    "#Check how [removed] and [deleted] lay in text columns"
   ]
  },
  {
   "cell_type": "code",
   "execution_count": 22,
   "id": "a8237ff7-29ab-4b5e-a2e0-4a24099275c7",
   "metadata": {
    "tags": []
   },
   "outputs": [],
   "source": [
    "Windows_df['text'] = Windows_df['text'].replace('[removed]', np.NaN)\n",
    "Windows_df['text'] = Windows_df['text'].replace('[deleted]', np.NaN)\n",
    "##So remove rows that contains [deleted] and [removed] text out"
   ]
  },
  {
   "cell_type": "code",
   "execution_count": 23,
   "id": "b37f1166-3e80-463e-aa43-ff8fee5e3d60",
   "metadata": {
    "tags": []
   },
   "outputs": [],
   "source": [
    "Windows_df.dropna(inplace=True)\n",
    "##So remove rows that contains [deleted] and [removed] text out (Cont.)"
   ]
  },
  {
   "cell_type": "code",
   "execution_count": 24,
   "id": "cc7d2b1d-3aae-43e2-828d-c56e9296d921",
   "metadata": {
    "tags": []
   },
   "outputs": [
    {
     "data": {
      "text/plain": [
       "(10380, 4)"
      ]
     },
     "execution_count": 24,
     "metadata": {},
     "output_type": "execute_result"
    }
   ],
   "source": [
    "Windows_df.shape\n",
    "#Check remaining columns"
   ]
  },
  {
   "cell_type": "code",
   "execution_count": 25,
   "id": "c1b4e319-0b88-40e6-9113-c0eb2489381c",
   "metadata": {
    "tags": []
   },
   "outputs": [],
   "source": [
    "Mac_df['Class'] = 1  #label class for Mac dataframe"
   ]
  },
  {
   "cell_type": "code",
   "execution_count": 26,
   "id": "2d6c0b82-c3cb-4bfa-b701-65e1c79a1d03",
   "metadata": {
    "tags": []
   },
   "outputs": [],
   "source": [
    "Windows_df['Class'] = 0 #label class for Windows dataframe"
   ]
  },
  {
   "cell_type": "code",
   "execution_count": 27,
   "id": "cca86ffa-2738-426e-ac28-af290210a3ac",
   "metadata": {
    "tags": []
   },
   "outputs": [
    {
     "data": {
      "text/html": [
       "<div>\n",
       "<style scoped>\n",
       "    .dataframe tbody tr th:only-of-type {\n",
       "        vertical-align: middle;\n",
       "    }\n",
       "\n",
       "    .dataframe tbody tr th {\n",
       "        vertical-align: top;\n",
       "    }\n",
       "\n",
       "    .dataframe thead th {\n",
       "        text-align: right;\n",
       "    }\n",
       "</style>\n",
       "<table border=\"1\" class=\"dataframe\">\n",
       "  <thead>\n",
       "    <tr style=\"text-align: right;\">\n",
       "      <th></th>\n",
       "      <th>vote</th>\n",
       "      <th>title</th>\n",
       "      <th>text</th>\n",
       "      <th>date</th>\n",
       "      <th>Class</th>\n",
       "    </tr>\n",
       "  </thead>\n",
       "  <tbody>\n",
       "    <tr>\n",
       "      <th>0</th>\n",
       "      <td>3</td>\n",
       "      <td>My Mac crashes when connecting USB Razer mouse</td>\n",
       "      <td>Just a bug report, and a thread to help others...</td>\n",
       "      <td>2016-07-08</td>\n",
       "      <td>1</td>\n",
       "    </tr>\n",
       "    <tr>\n",
       "      <th>3</th>\n",
       "      <td>0</td>\n",
       "      <td>Some questions regarding macOS Sierra public beta</td>\n",
       "      <td>Hi. If anyone has installed the public beta of...</td>\n",
       "      <td>2016-07-08</td>\n",
       "      <td>1</td>\n",
       "    </tr>\n",
       "  </tbody>\n",
       "</table>\n",
       "</div>"
      ],
      "text/plain": [
       "   vote                                              title  \\\n",
       "0     3     My Mac crashes when connecting USB Razer mouse   \n",
       "3     0  Some questions regarding macOS Sierra public beta   \n",
       "\n",
       "                                                text       date  Class  \n",
       "0  Just a bug report, and a thread to help others... 2016-07-08      1  \n",
       "3  Hi. If anyone has installed the public beta of... 2016-07-08      1  "
      ]
     },
     "execution_count": 27,
     "metadata": {},
     "output_type": "execute_result"
    }
   ],
   "source": [
    "Mac_df.head(2) #check result concat"
   ]
  },
  {
   "cell_type": "code",
   "execution_count": 28,
   "id": "32bf8fea-3745-4f2f-bab5-c93ddeb9e441",
   "metadata": {
    "tags": []
   },
   "outputs": [
    {
     "data": {
      "text/html": [
       "<div>\n",
       "<style scoped>\n",
       "    .dataframe tbody tr th:only-of-type {\n",
       "        vertical-align: middle;\n",
       "    }\n",
       "\n",
       "    .dataframe tbody tr th {\n",
       "        vertical-align: top;\n",
       "    }\n",
       "\n",
       "    .dataframe thead th {\n",
       "        text-align: right;\n",
       "    }\n",
       "</style>\n",
       "<table border=\"1\" class=\"dataframe\">\n",
       "  <thead>\n",
       "    <tr style=\"text-align: right;\">\n",
       "      <th></th>\n",
       "      <th>vote</th>\n",
       "      <th>title</th>\n",
       "      <th>text</th>\n",
       "      <th>date</th>\n",
       "      <th>Class</th>\n",
       "    </tr>\n",
       "  </thead>\n",
       "  <tbody>\n",
       "    <tr>\n",
       "      <th>3</th>\n",
       "      <td>1</td>\n",
       "      <td>Did you know? Assign a shortcut keystroke to a...</td>\n",
       "      <td>I discovered \\nhere\\n that not many people see...</td>\n",
       "      <td>2010-01-05</td>\n",
       "      <td>0</td>\n",
       "    </tr>\n",
       "    <tr>\n",
       "      <th>22</th>\n",
       "      <td>0</td>\n",
       "      <td>I'm a PC and windows 7 was my idea.....</td>\n",
       "      <td>And did you get that idea after using a mac?\\n...</td>\n",
       "      <td>2010-01-16</td>\n",
       "      <td>0</td>\n",
       "    </tr>\n",
       "  </tbody>\n",
       "</table>\n",
       "</div>"
      ],
      "text/plain": [
       "    vote                                              title  \\\n",
       "3      1  Did you know? Assign a shortcut keystroke to a...   \n",
       "22     0            I'm a PC and windows 7 was my idea.....   \n",
       "\n",
       "                                                 text       date  Class  \n",
       "3   I discovered \\nhere\\n that not many people see... 2010-01-05      0  \n",
       "22  And did you get that idea after using a mac?\\n... 2010-01-16      0  "
      ]
     },
     "execution_count": 28,
     "metadata": {},
     "output_type": "execute_result"
    }
   ],
   "source": [
    "Windows_df.head(2) #check result before concat"
   ]
  },
  {
   "cell_type": "markdown",
   "id": "80456f88-8c19-464b-ba9f-e20d876b68fb",
   "metadata": {
    "tags": []
   },
   "source": [
    "# Concat MacOS & Windows dataframe"
   ]
  },
  {
   "cell_type": "code",
   "execution_count": 29,
   "id": "ef101b19-da6e-4b42-abeb-c9bfd3557178",
   "metadata": {
    "tags": []
   },
   "outputs": [
    {
     "data": {
      "text/plain": [
       "((10380, 5), (10867, 5))"
      ]
     },
     "execution_count": 29,
     "metadata": {},
     "output_type": "execute_result"
    }
   ],
   "source": [
    "Windows_df.shape,Mac_df.shape #check portion of both class dataframe"
   ]
  },
  {
   "cell_type": "code",
   "execution_count": 30,
   "id": "49dbafa8-3679-4c92-b2d4-45e75b649115",
   "metadata": {
    "tags": []
   },
   "outputs": [],
   "source": [
    "df = pd.concat([Mac_df,Windows_df],axis=0) #concat into df "
   ]
  },
  {
   "cell_type": "code",
   "execution_count": 31,
   "id": "2f452d41-3a93-4a1c-b355-d01be477f28a",
   "metadata": {
    "tags": []
   },
   "outputs": [
    {
     "data": {
      "text/html": [
       "<div>\n",
       "<style scoped>\n",
       "    .dataframe tbody tr th:only-of-type {\n",
       "        vertical-align: middle;\n",
       "    }\n",
       "\n",
       "    .dataframe tbody tr th {\n",
       "        vertical-align: top;\n",
       "    }\n",
       "\n",
       "    .dataframe thead th {\n",
       "        text-align: right;\n",
       "    }\n",
       "</style>\n",
       "<table border=\"1\" class=\"dataframe\">\n",
       "  <thead>\n",
       "    <tr style=\"text-align: right;\">\n",
       "      <th></th>\n",
       "      <th>vote</th>\n",
       "      <th>title</th>\n",
       "      <th>text</th>\n",
       "      <th>date</th>\n",
       "      <th>Class</th>\n",
       "    </tr>\n",
       "  </thead>\n",
       "  <tbody>\n",
       "    <tr>\n",
       "      <th>0</th>\n",
       "      <td>3</td>\n",
       "      <td>My Mac crashes when connecting USB Razer mouse</td>\n",
       "      <td>Just a bug report, and a thread to help others...</td>\n",
       "      <td>2016-07-08</td>\n",
       "      <td>1</td>\n",
       "    </tr>\n",
       "    <tr>\n",
       "      <th>3</th>\n",
       "      <td>0</td>\n",
       "      <td>Some questions regarding macOS Sierra public beta</td>\n",
       "      <td>Hi. If anyone has installed the public beta of...</td>\n",
       "      <td>2016-07-08</td>\n",
       "      <td>1</td>\n",
       "    </tr>\n",
       "    <tr>\n",
       "      <th>4</th>\n",
       "      <td>4</td>\n",
       "      <td>anybody know trustd's purpose?</td>\n",
       "      <td>i used little snitch, good firewall program. s...</td>\n",
       "      <td>2016-07-08</td>\n",
       "      <td>1</td>\n",
       "    </tr>\n",
       "    <tr>\n",
       "      <th>5</th>\n",
       "      <td>8</td>\n",
       "      <td>Deleting GarageBand data in macOS Sierra</td>\n",
       "      <td>Hi all,\\n\\n\\nI've installed macOS Sierra, and ...</td>\n",
       "      <td>2016-07-08</td>\n",
       "      <td>1</td>\n",
       "    </tr>\n",
       "    <tr>\n",
       "      <th>6</th>\n",
       "      <td>2</td>\n",
       "      <td>Office 2016 on public beta?</td>\n",
       "      <td>I would like to install the public beta on my ...</td>\n",
       "      <td>2016-07-08</td>\n",
       "      <td>1</td>\n",
       "    </tr>\n",
       "  </tbody>\n",
       "</table>\n",
       "</div>"
      ],
      "text/plain": [
       "   vote                                              title  \\\n",
       "0     3     My Mac crashes when connecting USB Razer mouse   \n",
       "3     0  Some questions regarding macOS Sierra public beta   \n",
       "4     4                     anybody know trustd's purpose?   \n",
       "5     8           Deleting GarageBand data in macOS Sierra   \n",
       "6     2                        Office 2016 on public beta?   \n",
       "\n",
       "                                                text       date  Class  \n",
       "0  Just a bug report, and a thread to help others... 2016-07-08      1  \n",
       "3  Hi. If anyone has installed the public beta of... 2016-07-08      1  \n",
       "4  i used little snitch, good firewall program. s... 2016-07-08      1  \n",
       "5  Hi all,\\n\\n\\nI've installed macOS Sierra, and ... 2016-07-08      1  \n",
       "6  I would like to install the public beta on my ... 2016-07-08      1  "
      ]
     },
     "execution_count": 31,
     "metadata": {},
     "output_type": "execute_result"
    }
   ],
   "source": [
    "df.head() #check result"
   ]
  },
  {
   "cell_type": "code",
   "execution_count": 32,
   "id": "6af19107-7291-48d7-b671-25d8c42ee799",
   "metadata": {
    "tags": []
   },
   "outputs": [],
   "source": [
    "df.drop(['vote','date'], inplace=True, axis=1) #drop unwanted columns"
   ]
  },
  {
   "cell_type": "code",
   "execution_count": 33,
   "id": "1fa6cb8b-c98f-46f6-a155-f09541381105",
   "metadata": {
    "tags": []
   },
   "outputs": [
    {
     "data": {
      "text/html": [
       "<div>\n",
       "<style scoped>\n",
       "    .dataframe tbody tr th:only-of-type {\n",
       "        vertical-align: middle;\n",
       "    }\n",
       "\n",
       "    .dataframe tbody tr th {\n",
       "        vertical-align: top;\n",
       "    }\n",
       "\n",
       "    .dataframe thead th {\n",
       "        text-align: right;\n",
       "    }\n",
       "</style>\n",
       "<table border=\"1\" class=\"dataframe\">\n",
       "  <thead>\n",
       "    <tr style=\"text-align: right;\">\n",
       "      <th></th>\n",
       "      <th>title</th>\n",
       "      <th>text</th>\n",
       "      <th>Class</th>\n",
       "    </tr>\n",
       "  </thead>\n",
       "  <tbody>\n",
       "    <tr>\n",
       "      <th>0</th>\n",
       "      <td>My Mac crashes when connecting USB Razer mouse</td>\n",
       "      <td>Just a bug report, and a thread to help others...</td>\n",
       "      <td>1</td>\n",
       "    </tr>\n",
       "    <tr>\n",
       "      <th>1</th>\n",
       "      <td>Some questions regarding macOS Sierra public beta</td>\n",
       "      <td>Hi. If anyone has installed the public beta of...</td>\n",
       "      <td>1</td>\n",
       "    </tr>\n",
       "    <tr>\n",
       "      <th>2</th>\n",
       "      <td>anybody know trustd's purpose?</td>\n",
       "      <td>i used little snitch, good firewall program. s...</td>\n",
       "      <td>1</td>\n",
       "    </tr>\n",
       "    <tr>\n",
       "      <th>3</th>\n",
       "      <td>Deleting GarageBand data in macOS Sierra</td>\n",
       "      <td>Hi all,\\n\\n\\nI've installed macOS Sierra, and ...</td>\n",
       "      <td>1</td>\n",
       "    </tr>\n",
       "    <tr>\n",
       "      <th>4</th>\n",
       "      <td>Office 2016 on public beta?</td>\n",
       "      <td>I would like to install the public beta on my ...</td>\n",
       "      <td>1</td>\n",
       "    </tr>\n",
       "    <tr>\n",
       "      <th>...</th>\n",
       "      <td>...</td>\n",
       "      <td>...</td>\n",
       "      <td>...</td>\n",
       "    </tr>\n",
       "    <tr>\n",
       "      <th>21242</th>\n",
       "      <td>Built my gaming PC years ago, having issues up...</td>\n",
       "      <td>Last night after gaming I shut down my compute...</td>\n",
       "      <td>0</td>\n",
       "    </tr>\n",
       "    <tr>\n",
       "      <th>21243</th>\n",
       "      <td>1 HDD 10 separate windows installations</td>\n",
       "      <td>So I have a back up of 10 hdds on one hard dri...</td>\n",
       "      <td>0</td>\n",
       "    </tr>\n",
       "    <tr>\n",
       "      <th>21244</th>\n",
       "      <td>Windows activation key</td>\n",
       "      <td>Hey, I changed my mother board a while ago aft...</td>\n",
       "      <td>0</td>\n",
       "    </tr>\n",
       "    <tr>\n",
       "      <th>21245</th>\n",
       "      <td>Google ecosystem on Windows</td>\n",
       "      <td>For those of you who own Android devices and p...</td>\n",
       "      <td>0</td>\n",
       "    </tr>\n",
       "    <tr>\n",
       "      <th>21246</th>\n",
       "      <td>Why are there no Hindi or Thai or Vietnamese o...</td>\n",
       "      <td>If there are, where to download them?</td>\n",
       "      <td>0</td>\n",
       "    </tr>\n",
       "  </tbody>\n",
       "</table>\n",
       "<p>21247 rows × 3 columns</p>\n",
       "</div>"
      ],
      "text/plain": [
       "                                                   title  \\\n",
       "0         My Mac crashes when connecting USB Razer mouse   \n",
       "1      Some questions regarding macOS Sierra public beta   \n",
       "2                         anybody know trustd's purpose?   \n",
       "3               Deleting GarageBand data in macOS Sierra   \n",
       "4                            Office 2016 on public beta?   \n",
       "...                                                  ...   \n",
       "21242  Built my gaming PC years ago, having issues up...   \n",
       "21243            1 HDD 10 separate windows installations   \n",
       "21244                             Windows activation key   \n",
       "21245                        Google ecosystem on Windows   \n",
       "21246  Why are there no Hindi or Thai or Vietnamese o...   \n",
       "\n",
       "                                                    text  Class  \n",
       "0      Just a bug report, and a thread to help others...      1  \n",
       "1      Hi. If anyone has installed the public beta of...      1  \n",
       "2      i used little snitch, good firewall program. s...      1  \n",
       "3      Hi all,\\n\\n\\nI've installed macOS Sierra, and ...      1  \n",
       "4      I would like to install the public beta on my ...      1  \n",
       "...                                                  ...    ...  \n",
       "21242  Last night after gaming I shut down my compute...      0  \n",
       "21243  So I have a back up of 10 hdds on one hard dri...      0  \n",
       "21244  Hey, I changed my mother board a while ago aft...      0  \n",
       "21245  For those of you who own Android devices and p...      0  \n",
       "21246              If there are, where to download them?      0  \n",
       "\n",
       "[21247 rows x 3 columns]"
      ]
     },
     "execution_count": 33,
     "metadata": {},
     "output_type": "execute_result"
    }
   ],
   "source": [
    "df.reset_index(drop=True) #reset index"
   ]
  },
  {
   "cell_type": "code",
   "execution_count": 34,
   "id": "4c83ef2b-14c4-44b2-973e-2af940499d65",
   "metadata": {},
   "outputs": [],
   "source": [
    "df['message'] = df['title']+' '+df['text']\n",
    "df.drop(['title','text'], inplace=True, axis=1) #combine topic and body ready for modelling process"
   ]
  },
  {
   "cell_type": "code",
   "execution_count": 35,
   "id": "fa959f77-5115-4417-81ee-ca6cfd20549e",
   "metadata": {
    "tags": []
   },
   "outputs": [],
   "source": [
    "df.to_csv('dataset/dfmw_combined.csv') #export to new file"
   ]
  },
  {
   "cell_type": "code",
   "execution_count": null,
   "id": "dcae382f-1286-4466-8c08-dcc5fd0ad150",
   "metadata": {},
   "outputs": [],
   "source": []
  },
  {
   "cell_type": "code",
   "execution_count": null,
   "id": "06892132-1ec0-4900-abfd-66818436adb8",
   "metadata": {},
   "outputs": [],
   "source": []
  },
  {
   "cell_type": "code",
   "execution_count": null,
   "id": "25be5efb-6f2c-44f4-bd31-964cb7f0c783",
   "metadata": {},
   "outputs": [],
   "source": []
  },
  {
   "cell_type": "code",
   "execution_count": null,
   "id": "6e0b67db-545d-4675-8ce7-172b187d4ffe",
   "metadata": {},
   "outputs": [],
   "source": []
  },
  {
   "cell_type": "code",
   "execution_count": null,
   "id": "ec2c59ba-9996-4af2-ba23-b922e35228c2",
   "metadata": {},
   "outputs": [],
   "source": []
  },
  {
   "cell_type": "code",
   "execution_count": null,
   "id": "c7ec27d5-4f8e-4fab-8b8a-5c842e901c96",
   "metadata": {},
   "outputs": [],
   "source": []
  },
  {
   "cell_type": "code",
   "execution_count": null,
   "id": "e52154a8-8ad6-4dc8-8e3f-2ad72cd1b494",
   "metadata": {},
   "outputs": [],
   "source": []
  },
  {
   "cell_type": "code",
   "execution_count": null,
   "id": "a985be44-bbc1-4cb6-bd0b-2d485e5fca37",
   "metadata": {},
   "outputs": [],
   "source": []
  },
  {
   "cell_type": "code",
   "execution_count": null,
   "id": "6cfc2c12-7352-4304-9c07-eb50f7ac8ff7",
   "metadata": {},
   "outputs": [],
   "source": []
  },
  {
   "cell_type": "code",
   "execution_count": null,
   "id": "0b97cb6b-ad11-43d0-b567-47caa231d535",
   "metadata": {},
   "outputs": [],
   "source": []
  },
  {
   "cell_type": "code",
   "execution_count": null,
   "id": "cc2776bf-f0f2-4c90-b497-2aa2affbc4cd",
   "metadata": {},
   "outputs": [],
   "source": []
  },
  {
   "cell_type": "code",
   "execution_count": null,
   "id": "18dca474-b8b6-46f6-bff1-561aa10162df",
   "metadata": {},
   "outputs": [],
   "source": []
  },
  {
   "cell_type": "code",
   "execution_count": null,
   "id": "c107efb2-9771-4bb4-8a26-7e508eded982",
   "metadata": {},
   "outputs": [],
   "source": []
  },
  {
   "cell_type": "code",
   "execution_count": null,
   "id": "8cf00bf0-46a4-4984-b7cb-2c8025ab29e0",
   "metadata": {},
   "outputs": [],
   "source": []
  },
  {
   "cell_type": "code",
   "execution_count": null,
   "id": "2b789925-1f51-4a4e-8b02-e492f133d0d5",
   "metadata": {},
   "outputs": [],
   "source": []
  }
 ],
 "metadata": {
  "kernelspec": {
   "display_name": "Python 3 (ipykernel)",
   "language": "python",
   "name": "python3"
  },
  "language_info": {
   "codemirror_mode": {
    "name": "ipython",
    "version": 3
   },
   "file_extension": ".py",
   "mimetype": "text/x-python",
   "name": "python",
   "nbconvert_exporter": "python",
   "pygments_lexer": "ipython3",
   "version": "3.11.5"
  }
 },
 "nbformat": 4,
 "nbformat_minor": 5
}
