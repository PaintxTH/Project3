{
 "cells": [
  {
   "cell_type": "markdown",
   "metadata": {},
   "source": [
    "## import"
   ]
  },
  {
   "cell_type": "code",
   "execution_count": 2,
   "metadata": {
    "tags": []
   },
   "outputs": [],
   "source": [
    "from selenium import webdriver\n",
    "from bs4 import BeautifulSoup\n",
    "import pandas as pd\n",
    "from tqdm import tqdm\n",
    "from time import sleep\n",
    "import json, os\n"
   ]
  },
  {
   "cell_type": "markdown",
   "metadata": {},
   "source": [
    "## instantiate webdriver"
   ]
  },
  {
   "cell_type": "code",
   "execution_count": 4,
   "metadata": {
    "tags": []
   },
   "outputs": [],
   "source": [
    "## instantiate driver\n",
    "## check the version of Google Chrome and download correct version of chromedriver\n",
    "driver = webdriver.Chrome()"
   ]
  },
  {
   "cell_type": "code",
   "execution_count": 18,
   "metadata": {
    "tags": []
   },
   "outputs": [],
   "source": [
    "## get page of \"social grep\", which gived old posts of subreddit\n",
    "## e.g. https://socialgrep.com/search?query=%2Fr%2FLanguageTechnology%2Cafter%3A2010-01-01&order_by=oldest\n",
    "## original reddit url = 'https://www.reddit.com/r/xxxxxxxxx/'\n",
    "\n",
    "subreddit = 'Windows' # choose by yourself\n",
    "start_date = '2010-01-01' # choose by yourself\n",
    "\n",
    "url = f'https://socialgrep.com/search?query=%2Fr%2F{subreddit}%2Cafter%3A{start_date}&order_by=oldest'\n",
    "\n",
    "driver.get(url)\n",
    "repeat_time, waiting_time = 4, 2\n",
    "\n",
    "## scroll to the bottom of the page and wait\n",
    "for i in range(repeat_time):\n",
    "    driver.execute_script(f\"window.scrollTo(0, document.body.scrollHeight);\")\n",
    "    sleep(waiting_time)"
   ]
  },
  {
   "cell_type": "code",
   "execution_count": 19,
   "metadata": {
    "tags": []
   },
   "outputs": [],
   "source": [
    "## function to scrape\n",
    "def get_content(post, subreddit):\n",
    "    try:\n",
    "        vote = int(post.select_one('span.text-info').text)\n",
    "    except:\n",
    "        vote = 0\n",
    "    try:\n",
    "        title = post.a.text\n",
    "    except:\n",
    "        return None\n",
    "    try:\n",
    "        text = post.select_one('div.post_content').get_text(separator='\\n').strip()\n",
    "        if text == '':\n",
    "            text = None\n",
    "    except:\n",
    "        text = None\n",
    "    date = post.select_one('h6.card-subtitle').text.split(',')[1].strip()\n",
    "\n",
    "    if text == None and title == f\"/r/{subreddit.lower()}\":\n",
    "        return None\n",
    "    else:\n",
    "        return {\n",
    "            \"vote\" : vote,\n",
    "            \"title\" : title,\n",
    "            \"text\" : text,\n",
    "            \"date\" : date\n",
    "        }"
   ]
  },
  {
   "cell_type": "markdown",
   "metadata": {},
   "source": [
    "## example of one post"
   ]
  },
  {
   "cell_type": "code",
   "execution_count": 20,
   "metadata": {
    "tags": []
   },
   "outputs": [
    {
     "data": {
      "text/plain": [
       "{'vote': 0,\n",
       " 'title': \"Does anyone know how to fix Vundo.JD? AVG 'fixes' it and it comes back alive again.\",\n",
       " 'text': None,\n",
       " 'date': '2010-01-02'}"
      ]
     },
     "execution_count": 20,
     "metadata": {},
     "output_type": "execute_result"
    }
   ],
   "source": [
    "soup = BeautifulSoup(driver.page_source)\n",
    "posts = soup.select('div.card-body') # content is under here\n",
    "\n",
    "get_content(posts[1], subreddit) # show one example"
   ]
  },
  {
   "cell_type": "markdown",
   "metadata": {},
   "source": [
    "# for loop with datetime"
   ]
  },
  {
   "cell_type": "code",
   "execution_count": 67,
   "metadata": {
    "tags": []
   },
   "outputs": [],
   "source": [
    "if os.path.exists(f'{subreddit}.json'):\n",
    "    ## resume scraping from the last date in the json file\n",
    "    with open(f'{subreddit}.json', 'r', encoding='utf8') as f:\n",
    "        scraped_data = json.load(f)\n",
    "    new_date = scraped_data[-1]['date']\n",
    "    url = f'https://socialgrep.com/search?query=%2Fr%2F{subreddit}%2Cafter%3A{new_date}&order_by=oldest'\n",
    "else:\n",
    "    ## if the file not exists, create a new list\n",
    "    scraped_data = []"
   ]
  },
  {
   "cell_type": "code",
   "execution_count": 68,
   "metadata": {
    "tags": []
   },
   "outputs": [
    {
     "name": "stderr",
     "output_type": "stream",
     "text": [
      "100%|██████████| 200/200 [58:20<00:00, 17.50s/it]  \n"
     ]
    }
   ],
   "source": [
    "## scrape and append to `scraped_data`\n",
    "## RUN THIS CELL AGAIN AND AGAIN until getting the latest post\n",
    "\n",
    "for _ in tqdm(range(200)): # set repeat time \n",
    "\n",
    "    ## scroll to the bottom of the page and wait\n",
    "    driver.get(url)\n",
    "    for i in range(4):\n",
    "        driver.execute_script(f\"window.scrollTo(0, document.body.scrollHeight);\")\n",
    "        sleep(2)\n",
    "\n",
    "    ## get HTML\n",
    "    soup = BeautifulSoup(driver.page_source)\n",
    "    posts = soup.select('div.card-body')\n",
    "\n",
    "    ## iterate each post\n",
    "    for post in posts:\n",
    "        one_post_dict = get_content(post, subreddit)\n",
    "        if one_post_dict != None:\n",
    "            scraped_data.append(one_post_dict)\n",
    "\n",
    "    ## save to json\n",
    "    with open(f'{subreddit}.json', 'w', encoding='utf8') as f:\n",
    "        json.dump(scraped_data, f, indent=False, ensure_ascii=False)\n",
    "\n",
    "    ## set new date\n",
    "    new_date = scraped_data[-1]['date']\n",
    "    url = f'https://socialgrep.com/search?query=%2Fr%2F{subreddit}%2Cafter%3A{new_date}&order_by=oldest'\n"
   ]
  },
  {
   "cell_type": "markdown",
   "metadata": {},
   "source": [
    "## to dataframe and drop duplicate"
   ]
  },
  {
   "cell_type": "code",
   "execution_count": 17,
   "metadata": {
    "tags": []
   },
   "outputs": [
    {
     "data": {
      "text/html": [
       "<div>\n",
       "<style scoped>\n",
       "    .dataframe tbody tr th:only-of-type {\n",
       "        vertical-align: middle;\n",
       "    }\n",
       "\n",
       "    .dataframe tbody tr th {\n",
       "        vertical-align: top;\n",
       "    }\n",
       "\n",
       "    .dataframe thead th {\n",
       "        text-align: right;\n",
       "    }\n",
       "</style>\n",
       "<table border=\"1\" class=\"dataframe\">\n",
       "  <thead>\n",
       "    <tr style=\"text-align: right;\">\n",
       "      <th></th>\n",
       "      <th>vote</th>\n",
       "      <th>title</th>\n",
       "      <th>text</th>\n",
       "      <th>date</th>\n",
       "    </tr>\n",
       "  </thead>\n",
       "  <tbody>\n",
       "    <tr>\n",
       "      <th>0</th>\n",
       "      <td>3</td>\n",
       "      <td>My Mac crashes when connecting USB Razer mouse</td>\n",
       "      <td>Just a bug report, and a thread to help others...</td>\n",
       "      <td>2016-07-08</td>\n",
       "    </tr>\n",
       "    <tr>\n",
       "      <th>1</th>\n",
       "      <td>1</td>\n",
       "      <td>MacOS Sierra beta publique : télécharger et in...</td>\n",
       "      <td>None</td>\n",
       "      <td>2016-07-08</td>\n",
       "    </tr>\n",
       "    <tr>\n",
       "      <th>2</th>\n",
       "      <td>1</td>\n",
       "      <td>[Problem] MacOS Sierra \"cannot be installed on...</td>\n",
       "      <td>[deleted]</td>\n",
       "      <td>2016-07-08</td>\n",
       "    </tr>\n",
       "    <tr>\n",
       "      <th>3</th>\n",
       "      <td>0</td>\n",
       "      <td>Some questions regarding macOS Sierra public beta</td>\n",
       "      <td>Hi. If anyone has installed the public beta of...</td>\n",
       "      <td>2016-07-08</td>\n",
       "    </tr>\n",
       "    <tr>\n",
       "      <th>4</th>\n",
       "      <td>4</td>\n",
       "      <td>anybody know trustd's purpose?</td>\n",
       "      <td>i used little snitch, good firewall program. s...</td>\n",
       "      <td>2016-07-08</td>\n",
       "    </tr>\n",
       "    <tr>\n",
       "      <th>...</th>\n",
       "      <td>...</td>\n",
       "      <td>...</td>\n",
       "      <td>...</td>\n",
       "      <td>...</td>\n",
       "    </tr>\n",
       "    <tr>\n",
       "      <th>19443</th>\n",
       "      <td>1</td>\n",
       "      <td>Should I update to Monterey</td>\n",
       "      <td>I have a MacBook Pro 15 inch early 2013 but it...</td>\n",
       "      <td>2022-01-05</td>\n",
       "    </tr>\n",
       "    <tr>\n",
       "      <th>19444</th>\n",
       "      <td>0</td>\n",
       "      <td>[deleted by user]</td>\n",
       "      <td>[removed]</td>\n",
       "      <td>2022-01-05</td>\n",
       "    </tr>\n",
       "    <tr>\n",
       "      <th>19445</th>\n",
       "      <td>1</td>\n",
       "      <td>[deleted by user]</td>\n",
       "      <td>[removed]</td>\n",
       "      <td>2022-01-05</td>\n",
       "    </tr>\n",
       "    <tr>\n",
       "      <th>19447</th>\n",
       "      <td>5</td>\n",
       "      <td>Why does text on certain pages of my book disa...</td>\n",
       "      <td>None</td>\n",
       "      <td>2022-01-05</td>\n",
       "    </tr>\n",
       "    <tr>\n",
       "      <th>19449</th>\n",
       "      <td>8</td>\n",
       "      <td>Is it safe to delete hidden library folder?</td>\n",
       "      <td>I am trying to clear some storage in my macboo...</td>\n",
       "      <td>2022-01-05</td>\n",
       "    </tr>\n",
       "  </tbody>\n",
       "</table>\n",
       "<p>19312 rows × 4 columns</p>\n",
       "</div>"
      ],
      "text/plain": [
       "       vote                                              title  \\\n",
       "0         3     My Mac crashes when connecting USB Razer mouse   \n",
       "1         1  MacOS Sierra beta publique : télécharger et in...   \n",
       "2         1  [Problem] MacOS Sierra \"cannot be installed on...   \n",
       "3         0  Some questions regarding macOS Sierra public beta   \n",
       "4         4                     anybody know trustd's purpose?   \n",
       "...     ...                                                ...   \n",
       "19443     1                        Should I update to Monterey   \n",
       "19444     0                                  [deleted by user]   \n",
       "19445     1                                  [deleted by user]   \n",
       "19447     5  Why does text on certain pages of my book disa...   \n",
       "19449     8        Is it safe to delete hidden library folder?   \n",
       "\n",
       "                                                    text       date  \n",
       "0      Just a bug report, and a thread to help others... 2016-07-08  \n",
       "1                                                   None 2016-07-08  \n",
       "2                                              [deleted] 2016-07-08  \n",
       "3      Hi. If anyone has installed the public beta of... 2016-07-08  \n",
       "4      i used little snitch, good firewall program. s... 2016-07-08  \n",
       "...                                                  ...        ...  \n",
       "19443  I have a MacBook Pro 15 inch early 2013 but it... 2022-01-05  \n",
       "19444                                          [removed] 2022-01-05  \n",
       "19445                                          [removed] 2022-01-05  \n",
       "19447                                               None 2022-01-05  \n",
       "19449  I am trying to clear some storage in my macboo... 2022-01-05  \n",
       "\n",
       "[19312 rows x 4 columns]"
      ]
     },
     "execution_count": 17,
     "metadata": {},
     "output_type": "execute_result"
    }
   ],
   "source": [
    "df = pd.read_json(f'{subreddit}.json').drop_duplicates()\n",
    "df"
   ]
  },
  {
   "cell_type": "code",
   "execution_count": 21,
   "metadata": {
    "tags": []
   },
   "outputs": [
    {
     "data": {
      "text/plain": [
       "vote        0\n",
       "title       0\n",
       "text     3265\n",
       "date        0\n",
       "dtype: int64"
      ]
     },
     "execution_count": 21,
     "metadata": {},
     "output_type": "execute_result"
    }
   ],
   "source": [
    "## missing value in text\n",
    "df.isna().sum()"
   ]
  },
  {
   "cell_type": "code",
   "execution_count": 22,
   "metadata": {
    "tags": []
   },
   "outputs": [
    {
     "data": {
      "text/html": [
       "<div>\n",
       "<style scoped>\n",
       "    .dataframe tbody tr th:only-of-type {\n",
       "        vertical-align: middle;\n",
       "    }\n",
       "\n",
       "    .dataframe tbody tr th {\n",
       "        vertical-align: top;\n",
       "    }\n",
       "\n",
       "    .dataframe thead th {\n",
       "        text-align: right;\n",
       "    }\n",
       "</style>\n",
       "<table border=\"1\" class=\"dataframe\">\n",
       "  <thead>\n",
       "    <tr style=\"text-align: right;\">\n",
       "      <th></th>\n",
       "      <th>vote</th>\n",
       "      <th>title</th>\n",
       "      <th>text</th>\n",
       "      <th>date</th>\n",
       "    </tr>\n",
       "  </thead>\n",
       "  <tbody>\n",
       "    <tr>\n",
       "      <th>2</th>\n",
       "      <td>1</td>\n",
       "      <td>[Problem] MacOS Sierra \"cannot be installed on...</td>\n",
       "      <td>[deleted]</td>\n",
       "      <td>2016-07-08</td>\n",
       "    </tr>\n",
       "    <tr>\n",
       "      <th>10</th>\n",
       "      <td>6</td>\n",
       "      <td>How is the battery life on public beta? Also, ...</td>\n",
       "      <td>[deleted]</td>\n",
       "      <td>2016-07-09</td>\n",
       "    </tr>\n",
       "    <tr>\n",
       "      <th>15</th>\n",
       "      <td>3</td>\n",
       "      <td>Wifi calling on macOS</td>\n",
       "      <td>[deleted]</td>\n",
       "      <td>2016-07-11</td>\n",
       "    </tr>\n",
       "    <tr>\n",
       "      <th>18</th>\n",
       "      <td>5</td>\n",
       "      <td>Seagate S Drive in Sierra beta</td>\n",
       "      <td>[deleted]</td>\n",
       "      <td>2016-07-12</td>\n",
       "    </tr>\n",
       "    <tr>\n",
       "      <th>20</th>\n",
       "      <td>1</td>\n",
       "      <td>Any way to downgrade from macOS Sierra Public ...</td>\n",
       "      <td>[deleted]</td>\n",
       "      <td>2016-07-13</td>\n",
       "    </tr>\n",
       "    <tr>\n",
       "      <th>...</th>\n",
       "      <td>...</td>\n",
       "      <td>...</td>\n",
       "      <td>...</td>\n",
       "      <td>...</td>\n",
       "    </tr>\n",
       "    <tr>\n",
       "      <th>19416</th>\n",
       "      <td>0</td>\n",
       "      <td>[deleted by user]</td>\n",
       "      <td>[removed]</td>\n",
       "      <td>2022-01-04</td>\n",
       "    </tr>\n",
       "    <tr>\n",
       "      <th>19420</th>\n",
       "      <td>1</td>\n",
       "      <td>iTunes automatically launching when connecting...</td>\n",
       "      <td>[removed]</td>\n",
       "      <td>2022-01-04</td>\n",
       "    </tr>\n",
       "    <tr>\n",
       "      <th>19436</th>\n",
       "      <td>2</td>\n",
       "      <td>Which MacOS is better for older macs</td>\n",
       "      <td>[removed]</td>\n",
       "      <td>2022-01-05</td>\n",
       "    </tr>\n",
       "    <tr>\n",
       "      <th>19444</th>\n",
       "      <td>0</td>\n",
       "      <td>[deleted by user]</td>\n",
       "      <td>[removed]</td>\n",
       "      <td>2022-01-05</td>\n",
       "    </tr>\n",
       "    <tr>\n",
       "      <th>19445</th>\n",
       "      <td>1</td>\n",
       "      <td>[deleted by user]</td>\n",
       "      <td>[removed]</td>\n",
       "      <td>2022-01-05</td>\n",
       "    </tr>\n",
       "  </tbody>\n",
       "</table>\n",
       "<p>5185 rows × 4 columns</p>\n",
       "</div>"
      ],
      "text/plain": [
       "       vote                                              title       text  \\\n",
       "2         1  [Problem] MacOS Sierra \"cannot be installed on...  [deleted]   \n",
       "10        6  How is the battery life on public beta? Also, ...  [deleted]   \n",
       "15        3                              Wifi calling on macOS  [deleted]   \n",
       "18        5                     Seagate S Drive in Sierra beta  [deleted]   \n",
       "20        1  Any way to downgrade from macOS Sierra Public ...  [deleted]   \n",
       "...     ...                                                ...        ...   \n",
       "19416     0                                  [deleted by user]  [removed]   \n",
       "19420     1  iTunes automatically launching when connecting...  [removed]   \n",
       "19436     2               Which MacOS is better for older macs  [removed]   \n",
       "19444     0                                  [deleted by user]  [removed]   \n",
       "19445     1                                  [deleted by user]  [removed]   \n",
       "\n",
       "            date  \n",
       "2     2016-07-08  \n",
       "10    2016-07-09  \n",
       "15    2016-07-11  \n",
       "18    2016-07-12  \n",
       "20    2016-07-13  \n",
       "...          ...  \n",
       "19416 2022-01-04  \n",
       "19420 2022-01-04  \n",
       "19436 2022-01-05  \n",
       "19444 2022-01-05  \n",
       "19445 2022-01-05  \n",
       "\n",
       "[5185 rows x 4 columns]"
      ]
     },
     "execution_count": 22,
     "metadata": {},
     "output_type": "execute_result"
    }
   ],
   "source": [
    "## text includes [removed] [deleted]\n",
    "df[df['text'].isin(['[removed]', '[deleted]'])]"
   ]
  },
  {
   "cell_type": "code",
   "execution_count": null,
   "metadata": {
    "tags": []
   },
   "outputs": [],
   "source": []
  },
  {
   "cell_type": "code",
   "execution_count": null,
   "metadata": {},
   "outputs": [],
   "source": []
  },
  {
   "cell_type": "code",
   "execution_count": null,
   "metadata": {},
   "outputs": [],
   "source": []
  }
 ],
 "metadata": {
  "kernelspec": {
   "display_name": "Python 3 (ipykernel)",
   "language": "python",
   "name": "python3"
  },
  "language_info": {
   "codemirror_mode": {
    "name": "ipython",
    "version": 3
   },
   "file_extension": ".py",
   "mimetype": "text/x-python",
   "name": "python",
   "nbconvert_exporter": "python",
   "pygments_lexer": "ipython3",
   "version": "3.11.5"
  },
  "vscode": {
   "interpreter": {
    "hash": "aee8b7b246df8f9039afb4144a1f6fd8d2ca17a180786b69acc140d282b71a49"
   }
  }
 },
 "nbformat": 4,
 "nbformat_minor": 4
}
